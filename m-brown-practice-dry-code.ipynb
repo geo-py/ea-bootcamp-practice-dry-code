{
 "cells": [
  {
   "cell_type": "markdown",
   "metadata": {},
   "source": [
    "#### Practice Dry Code Exercise\n",
    "\n",
    "* **Author:** Mark Brown\n",
    "* **Date:** 31/12/18"
   ]
  },
  {
   "cell_type": "markdown",
   "metadata": {},
   "source": [
    "#### Import Python Packages\n",
    "\n",
    "In the questions below, you will be working with numpy arrays and pandas dataframes.\n",
    "\n",
    "You will also be downloading files using urllib.request and accessing directories and files on your computer using os. Last, you will also be creating plots of your data.\n",
    "\n",
    "Import all of the necessary Python packages to accomplish these tasks."
   ]
  },
  {
   "cell_type": "code",
   "execution_count": 2,
   "metadata": {},
   "outputs": [
    {
     "name": "stdout",
     "output_type": "stream",
     "text": [
      "All packages successfully imported\n"
     ]
    }
   ],
   "source": [
    "# import necessary packages\n",
    "import os\n",
    "import numpy as np\n",
    "import pandas as pd\n",
    "import urllib.request\n",
    "import matplotlib.pyplot as plt\n",
    "\n",
    "print(\"All packages successfully imported\")"
   ]
  },
  {
   "cell_type": "markdown",
   "metadata": {},
   "source": [
    "#### Get Data\n",
    "#### Numpy Arrays\n",
    "\n",
    "Use .urllib.request to download the following .csv files of monthly precipitation (inches) and import the data to numpy arrays:\n",
    "\n",
    "1. monthly-precip-1988-to-1992.csv from https://ndownloader.figshare.com/files/12807380\n",
    "\n",
    "2. monthly-precip-1993-to-1997.csv from https://ndownloader.figshare.com/files/12807383\n",
    "\n",
    "Each dataset contains a row for each year specified in the dataset name and contains a column for each month (starting with January through December)."
   ]
  },
  {
   "cell_type": "code",
   "execution_count": 3,
   "metadata": {},
   "outputs": [
    {
     "name": "stdout",
     "output_type": "stream",
     "text": [
      "Datasets sucessfully downloaded\n"
     ]
    }
   ],
   "source": [
    "# set the working directory\n",
    "os.chdir(\"/Users/markb/earth-analytics-bootcamp/\")\n",
    "\n",
    "# download monthly-precip-1988-to-1992.csv\n",
    "urllib.request.urlretrieve(url = \"https://ndownloader.figshare.com/files/12807380\",\n",
    "                          filename = \"data/monthly-precip-1988-to-1992.csv\")\n",
    "\n",
    "# download monthly-precip-1993-to-1997.csv\n",
    "urllib.request.urlretrieve(url = \"https://ndownloader.figshare.com/files/12807383\", \n",
    "                          filename = \"data/monthly-precip-1993-to-1997.csv\")\n",
    "\n",
    "# print message that files were downloaded successfully\n",
    "print(\"Datasets sucessfully downloaded\")"
   ]
  },
  {
   "cell_type": "code",
   "execution_count": 4,
   "metadata": {},
   "outputs": [
    {
     "name": "stdout",
     "output_type": "stream",
     "text": [
      "Numpy arrays sucessfully created\n",
      "[[0.4  1.14 2.53 1.48 3.7  0.7  0.71 1.33 2.02 0.03 0.75 2.16]\n",
      " [1.19 1.27 0.97 1.95 2.68 2.93 1.43 1.63 3.54 1.4  0.09 1.54]\n",
      " [1.04 1.32 4.55 2.16 1.73 0.39 4.23 1.13 1.84 0.96 1.6  0.75]\n",
      " [1.05 0.15 0.43 2.41 2.9  3.59 3.11 2.08 1.21 0.93 3.3  0.01]\n",
      " [0.67 0.   5.17 0.46 1.7  0.96 1.13 3.08 0.02 0.79 2.56 0.84]]\n",
      "[[0.25 0.9  2.15 2.56 1.73 3.38 1.4  1.04 3.32 2.42 2.17 0.55]\n",
      " [0.86 1.37 1.61 3.46 1.35 0.93 0.35 2.56 0.54 1.02 2.25 0.49]\n",
      " [0.64 1.53 1.21 5.45 9.59 4.03 0.72 1.45 2.96 0.59 1.51 0.25]\n",
      " [1.89 0.29 2.16 1.49 4.63 2.77 1.96 0.63 3.48 0.28 1.43 0.37]\n",
      " [0.87 1.83 0.91 5.77 2.19 3.69 1.14 5.27 1.92 2.7  1.52 0.68]]\n"
     ]
    }
   ],
   "source": [
    "# import the downloaded files into new numpy arrays\n",
    "precip_88_to_92 = np.loadtxt(fname = \"/Users/markb/earth-analytics-bootcamp/data/monthly-precip-1988-to-1992.csv\", delimiter = \",\")\n",
    "\n",
    "precip_93_to_97 = np.loadtxt(fname = \"/Users/markb/earth-analytics-bootcamp/data/monthly-precip-1993-to-1997.csv\", delimiter = \",\")\n",
    "\n",
    "# print message to show that files sucessfully created\n",
    "print(\"Numpy arrays sucessfully created\")\n",
    "\n",
    "# display values in numpy array as floats rather than scientific\n",
    "# notation\n",
    "np.set_printoptions(suppress=True)\n",
    "\n",
    "# print the newly created numpy arrays\n",
    "print(precip_88_to_92)\n",
    "print(precip_93_to_97)"
   ]
  },
  {
   "cell_type": "markdown",
   "metadata": {},
   "source": [
    "#### Pandas Dataframes\n",
    "\n",
    "Use .urllib.request to download the following .csv files of monthly temperature (Fahrenheit) and import the data to pandas dataframes:\n",
    "\n",
    "1. temp-1991-to-1995-months.csv from https://ndownloader.figshare.com/files/12807389\n",
    "\n",
    "2. temp-1996-to-2000-months.csv from https://ndownloader.figshare.com/files/12807386\n",
    "\n",
    "Each dataset contains a row for each year specified in the dataset name and a column for each month (starting with January through December).\n",
    "\n",
    "Note: you are not required to write a loop to accomplish these tasks. You can follow the same process that you have before to download and import files."
   ]
  },
  {
   "cell_type": "code",
   "execution_count": 7,
   "metadata": {},
   "outputs": [
    {
     "name": "stdout",
     "output_type": "stream",
     "text": [
      "Files successfully downloaded\n"
     ]
    },
    {
     "data": {
      "text/html": [
       "<div>\n",
       "<style scoped>\n",
       "    .dataframe tbody tr th:only-of-type {\n",
       "        vertical-align: middle;\n",
       "    }\n",
       "\n",
       "    .dataframe tbody tr th {\n",
       "        vertical-align: top;\n",
       "    }\n",
       "\n",
       "    .dataframe thead th {\n",
       "        text-align: right;\n",
       "    }\n",
       "</style>\n",
       "<table border=\"1\" class=\"dataframe\">\n",
       "  <thead>\n",
       "    <tr style=\"text-align: right;\">\n",
       "      <th></th>\n",
       "      <th>Year</th>\n",
       "      <th>January</th>\n",
       "      <th>February</th>\n",
       "      <th>March</th>\n",
       "      <th>April</th>\n",
       "      <th>May</th>\n",
       "      <th>June</th>\n",
       "      <th>July</th>\n",
       "      <th>August</th>\n",
       "      <th>September</th>\n",
       "      <th>October</th>\n",
       "      <th>November</th>\n",
       "      <th>December</th>\n",
       "    </tr>\n",
       "  </thead>\n",
       "  <tbody>\n",
       "    <tr>\n",
       "      <th>0</th>\n",
       "      <td>1991</td>\n",
       "      <td>29.9</td>\n",
       "      <td>40.9</td>\n",
       "      <td>42.8</td>\n",
       "      <td>47.8</td>\n",
       "      <td>58.2</td>\n",
       "      <td>66.6</td>\n",
       "      <td>70.5</td>\n",
       "      <td>69.2</td>\n",
       "      <td>61.7</td>\n",
       "      <td>52.1</td>\n",
       "      <td>36.8</td>\n",
       "      <td>35.3</td>\n",
       "    </tr>\n",
       "    <tr>\n",
       "      <th>1</th>\n",
       "      <td>1992</td>\n",
       "      <td>35.9</td>\n",
       "      <td>40.6</td>\n",
       "      <td>43.3</td>\n",
       "      <td>54.3</td>\n",
       "      <td>59.1</td>\n",
       "      <td>62.9</td>\n",
       "      <td>68.3</td>\n",
       "      <td>66.3</td>\n",
       "      <td>64.4</td>\n",
       "      <td>54.1</td>\n",
       "      <td>34.1</td>\n",
       "      <td>29.2</td>\n",
       "    </tr>\n",
       "    <tr>\n",
       "      <th>2</th>\n",
       "      <td>1993</td>\n",
       "      <td>28.3</td>\n",
       "      <td>30.6</td>\n",
       "      <td>42.4</td>\n",
       "      <td>47.6</td>\n",
       "      <td>57.5</td>\n",
       "      <td>64.5</td>\n",
       "      <td>69.5</td>\n",
       "      <td>67.3</td>\n",
       "      <td>58.8</td>\n",
       "      <td>48.7</td>\n",
       "      <td>35.6</td>\n",
       "      <td>35.4</td>\n",
       "    </tr>\n",
       "    <tr>\n",
       "      <th>3</th>\n",
       "      <td>1994</td>\n",
       "      <td>35.5</td>\n",
       "      <td>31.9</td>\n",
       "      <td>43.9</td>\n",
       "      <td>47.6</td>\n",
       "      <td>60.8</td>\n",
       "      <td>70.0</td>\n",
       "      <td>71.2</td>\n",
       "      <td>70.9</td>\n",
       "      <td>65.0</td>\n",
       "      <td>50.6</td>\n",
       "      <td>36.6</td>\n",
       "      <td>36.1</td>\n",
       "    </tr>\n",
       "    <tr>\n",
       "      <th>4</th>\n",
       "      <td>1995</td>\n",
       "      <td>34.5</td>\n",
       "      <td>38.3</td>\n",
       "      <td>42.1</td>\n",
       "      <td>45.1</td>\n",
       "      <td>50.9</td>\n",
       "      <td>62.4</td>\n",
       "      <td>70.5</td>\n",
       "      <td>74.0</td>\n",
       "      <td>60.4</td>\n",
       "      <td>50.5</td>\n",
       "      <td>45.0</td>\n",
       "      <td>36.3</td>\n",
       "    </tr>\n",
       "  </tbody>\n",
       "</table>\n",
       "</div>"
      ],
      "text/plain": [
       "   Year  January  February  March  April   May  June  July  August  September  \\\n",
       "0  1991     29.9      40.9   42.8   47.8  58.2  66.6  70.5    69.2       61.7   \n",
       "1  1992     35.9      40.6   43.3   54.3  59.1  62.9  68.3    66.3       64.4   \n",
       "2  1993     28.3      30.6   42.4   47.6  57.5  64.5  69.5    67.3       58.8   \n",
       "3  1994     35.5      31.9   43.9   47.6  60.8  70.0  71.2    70.9       65.0   \n",
       "4  1995     34.5      38.3   42.1   45.1  50.9  62.4  70.5    74.0       60.4   \n",
       "\n",
       "   October  November  December  \n",
       "0     52.1      36.8      35.3  \n",
       "1     54.1      34.1      29.2  \n",
       "2     48.7      35.6      35.4  \n",
       "3     50.6      36.6      36.1  \n",
       "4     50.5      45.0      36.3  "
      ]
     },
     "execution_count": 7,
     "metadata": {},
     "output_type": "execute_result"
    }
   ],
   "source": [
    "# download temp-1991-to-1995-months.csv\n",
    "urllib.request.urlretrieve(url = \"https://ndownloader.figshare.com/files/12807389\",\n",
    "                          filename = \"data/temp-1991-to-1995-months.csv\")\n",
    "\n",
    "# download temp-1996-to-2000-months.csv\n",
    "urllib.request.urlretrieve(url = \"https://ndownloader.figshare.com/files/12807386\",\n",
    "                          filename = \"data/temp-1996-to-2000-months.csv\")\n",
    "\n",
    "# print message to show have files have downloaded\n",
    "print(\"Files successfully downloaded\")\n",
    "\n",
    "# import the downloaded files as a pandas dataframe\n",
    "temp_91_95_months = pd.read_csv(\"/Users/markb/earth-analytics-bootcamp/data/temp-1991-to-1995-months.csv\")\n",
    "\n",
    "temp_96_00_months = pd.read_csv(\"/Users/markb/earth-analytics-bootcamp/data/temp-1996-to-2000-months.csv\")\n",
    "\n",
    "# print the pandas dataframe\n",
    "temp_91_95_months\n",
    "\n"
   ]
  },
  {
   "cell_type": "code",
   "execution_count": 6,
   "metadata": {},
   "outputs": [
    {
     "data": {
      "text/html": [
       "<div>\n",
       "<style scoped>\n",
       "    .dataframe tbody tr th:only-of-type {\n",
       "        vertical-align: middle;\n",
       "    }\n",
       "\n",
       "    .dataframe tbody tr th {\n",
       "        vertical-align: top;\n",
       "    }\n",
       "\n",
       "    .dataframe thead th {\n",
       "        text-align: right;\n",
       "    }\n",
       "</style>\n",
       "<table border=\"1\" class=\"dataframe\">\n",
       "  <thead>\n",
       "    <tr style=\"text-align: right;\">\n",
       "      <th></th>\n",
       "      <th>Year</th>\n",
       "      <th>January</th>\n",
       "      <th>February</th>\n",
       "      <th>March</th>\n",
       "      <th>April</th>\n",
       "      <th>May</th>\n",
       "      <th>June</th>\n",
       "      <th>July</th>\n",
       "      <th>August</th>\n",
       "      <th>September</th>\n",
       "      <th>October</th>\n",
       "      <th>November</th>\n",
       "      <th>December</th>\n",
       "    </tr>\n",
       "  </thead>\n",
       "  <tbody>\n",
       "    <tr>\n",
       "      <th>0</th>\n",
       "      <td>1996</td>\n",
       "      <td>29.7</td>\n",
       "      <td>37.7</td>\n",
       "      <td>37.9</td>\n",
       "      <td>50.4</td>\n",
       "      <td>58.9</td>\n",
       "      <td>66.9</td>\n",
       "      <td>71.5</td>\n",
       "      <td>69.5</td>\n",
       "      <td>60.8</td>\n",
       "      <td>53.1</td>\n",
       "      <td>40.6</td>\n",
       "      <td>36.5</td>\n",
       "    </tr>\n",
       "    <tr>\n",
       "      <th>1</th>\n",
       "      <td>1997</td>\n",
       "      <td>31.3</td>\n",
       "      <td>32.8</td>\n",
       "      <td>45.5</td>\n",
       "      <td>42.8</td>\n",
       "      <td>57.4</td>\n",
       "      <td>66.5</td>\n",
       "      <td>71.4</td>\n",
       "      <td>68.7</td>\n",
       "      <td>64.0</td>\n",
       "      <td>52.7</td>\n",
       "      <td>37.9</td>\n",
       "      <td>33.9</td>\n",
       "    </tr>\n",
       "    <tr>\n",
       "      <th>2</th>\n",
       "      <td>1998</td>\n",
       "      <td>36.5</td>\n",
       "      <td>36.4</td>\n",
       "      <td>38.7</td>\n",
       "      <td>46.5</td>\n",
       "      <td>58.8</td>\n",
       "      <td>62.1</td>\n",
       "      <td>72.8</td>\n",
       "      <td>70.7</td>\n",
       "      <td>67.1</td>\n",
       "      <td>50.4</td>\n",
       "      <td>44.0</td>\n",
       "      <td>32.2</td>\n",
       "    </tr>\n",
       "    <tr>\n",
       "      <th>3</th>\n",
       "      <td>1999</td>\n",
       "      <td>36.4</td>\n",
       "      <td>42.1</td>\n",
       "      <td>46.0</td>\n",
       "      <td>44.5</td>\n",
       "      <td>55.6</td>\n",
       "      <td>64.8</td>\n",
       "      <td>73.5</td>\n",
       "      <td>69.3</td>\n",
       "      <td>58.5</td>\n",
       "      <td>51.9</td>\n",
       "      <td>48.0</td>\n",
       "      <td>36.9</td>\n",
       "    </tr>\n",
       "    <tr>\n",
       "      <th>4</th>\n",
       "      <td>2000</td>\n",
       "      <td>36.4</td>\n",
       "      <td>41.0</td>\n",
       "      <td>42.9</td>\n",
       "      <td>51.2</td>\n",
       "      <td>61.0</td>\n",
       "      <td>67.4</td>\n",
       "      <td>74.7</td>\n",
       "      <td>73.0</td>\n",
       "      <td>63.1</td>\n",
       "      <td>49.6</td>\n",
       "      <td>31.4</td>\n",
       "      <td>31.2</td>\n",
       "    </tr>\n",
       "  </tbody>\n",
       "</table>\n",
       "</div>"
      ],
      "text/plain": [
       "   Year  January  February  March  April   May  June  July  August  September  \\\n",
       "0  1996     29.7      37.7   37.9   50.4  58.9  66.9  71.5    69.5       60.8   \n",
       "1  1997     31.3      32.8   45.5   42.8  57.4  66.5  71.4    68.7       64.0   \n",
       "2  1998     36.5      36.4   38.7   46.5  58.8  62.1  72.8    70.7       67.1   \n",
       "3  1999     36.4      42.1   46.0   44.5  55.6  64.8  73.5    69.3       58.5   \n",
       "4  2000     36.4      41.0   42.9   51.2  61.0  67.4  74.7    73.0       63.1   \n",
       "\n",
       "   October  November  December  \n",
       "0     53.1      40.6      36.5  \n",
       "1     52.7      37.9      33.9  \n",
       "2     50.4      44.0      32.2  \n",
       "3     51.9      48.0      36.9  \n",
       "4     49.6      31.4      31.2  "
      ]
     },
     "execution_count": 6,
     "metadata": {},
     "output_type": "execute_result"
    }
   ],
   "source": [
    "# print the pandas dataframe\n",
    "temp_96_00_months"
   ]
  },
  {
   "cell_type": "markdown",
   "metadata": {},
   "source": [
    "#### Question 1: Use Indexing to Select from Numpy Array\n",
    "\n",
    "Select the second row of data (including all columns) from the numpy array containing the data for 1988 to 1992, and save to a new numpy array.\n",
    "\n",
    "Note that using an index series (e.g. [row_index:row_index, column_index:column_index]) to select the rows and columns will result in a two-dimensional array.\n",
    "\n",
    "Name your new array appropriately to indicate the year of data that it represents."
   ]
  },
  {
   "cell_type": "code",
   "execution_count": 26,
   "metadata": {},
   "outputs": [
    {
     "data": {
      "text/plain": [
       "array([[1.19, 1.27, 0.97, 1.95, 2.68, 2.93, 1.43, 1.63, 3.54, 1.4 , 0.09,\n",
       "        1.54]])"
      ]
     },
     "execution_count": 26,
     "metadata": {},
     "output_type": "execute_result"
    }
   ],
   "source": [
    "# select second row of data from 'precip_88_to_92' and save to a \n",
    "# new array called \n",
    "\n",
    "precip_89 = precip_88_to_92[1:2, : ]\n",
    "\n",
    "# print new array\n",
    "precip_89"
   ]
  },
  {
   "cell_type": "markdown",
   "metadata": {},
   "source": [
    "#### Question 2: Write a Conditional Statement to Check Dimensions of Numpy Array\n",
    "\n",
    "Write a conditional statement that checks whether the numpy array created in the previous question (i.e. the selection) is a one-dimensional numpy array.\n",
    "\n",
    "Print a message stating whether or not the array is one-dimensional.\n",
    "\n",
    "Hints:\n",
    "\n",
    "    It is easier to write this conditional statement using the attribute of numpy arrays that provides a single value for the dimension (i.e. .ndim), rather than the shape.\n",
    "    Recall how to use the comparison operator to check for equality between values (==)."
   ]
  },
  {
   "cell_type": "code",
   "execution_count": 27,
   "metadata": {},
   "outputs": [
    {
     "name": "stdout",
     "output_type": "stream",
     "text": [
      "This is NOT a one-dimensional array\n"
     ]
    }
   ],
   "source": [
    "# check to see if precip_89 is a one dimensional array\n",
    "\n",
    "if precip_89.ndim == 1:\n",
    "    print(\"This is a one-dimensional array\")\n",
    "else:\n",
    "    print(\"This is NOT a one-dimensional array\")"
   ]
  },
  {
   "cell_type": "markdown",
   "metadata": {},
   "source": [
    "#### Question 3: Expand Conditional Statement to Execute Different Code\n",
    "\n",
    "Modify your conditional statement from the previous question, so that your if and else statements execute different code, not just printing messages.\n",
    "\n",
    "For the if statement, rather than printing a message, print the shape of the numpy array from the previous question (i.e. the selection).\n",
    "\n",
    "For the else statement, rather than printing a message, include the following code lines to be executed (i.e. if the array is not one-dimensional):\n",
    "\n",
    "* arrayname_1d = arrayname.flatten()\n",
    "* print(arrayname_1d.shape)\n",
    "\n",
    "These code lines will flatten a numpy array (in this case named arrayname) to a one-dimensional array, save it to a new array called arrayname_1d, and print the shape of the new array.\n",
    "\n",
    "Note the result of this conditional statement."
   ]
  },
  {
   "cell_type": "code",
   "execution_count": 29,
   "metadata": {},
   "outputs": [
    {
     "name": "stdout",
     "output_type": "stream",
     "text": [
      "(12,)\n"
     ]
    }
   ],
   "source": [
    "# while loop to carry out instructions outlined above \n",
    "\n",
    "if precip_89.ndim == 1:\n",
    "    # print shape of numpy array\n",
    "    precip_89.shape\n",
    "    \n",
    "else:\n",
    "    # flatten numpy array then print new array\n",
    "    precip_89_1d = precip_89.flatten()\n",
    "    print(precip_89_1d.shape)"
   ]
  },
  {
   "cell_type": "markdown",
   "metadata": {},
   "source": [
    "#### Question 4: Write a Conditional Statement to Check Dimensions of Two Numpy Arrays\n",
    "\n",
    "Manually create a one-dimensional numpy array that contains the month names (i.e. January to December).\n",
    "\n",
    "Write a conditional statement to check that this new array for month names has the same shape as the numpy array from the previous question (i.e. the selection).\n",
    "\n",
    "Print a message stating whether are not these arrays have the same shape and can be plotted together.\n",
    "\n",
    "Hints:\n",
    "\n",
    "* Review the Activity on Data Structures from Day 6 if you need to recall how to manually create a numpy array using np.array([]).\n",
    "* Note that you are creating this new array using text strings, not numeric values.\n",
    "* Recall how to use the comparison operator to check for equality between values (==)."
   ]
  },
  {
   "cell_type": "code",
   "execution_count": 32,
   "metadata": {},
   "outputs": [
    {
     "name": "stdout",
     "output_type": "stream",
     "text": [
      "The arrays have the same shape and can be plotted together\n"
     ]
    }
   ],
   "source": [
    "# create new numpy array of month names\n",
    "months = np.array([\"Jan\", \n",
    "                  \"Feb\", \n",
    "                   \"Mar\", \n",
    "                  \"Apr\", \n",
    "                  \"May\", \n",
    "                  \"Jun\", \n",
    "                  \"Jul\", \n",
    "                  \"Aug\", \n",
    "                  \"Sept\", \n",
    "                  \"Oct\",\n",
    "                  \"Nov\", \n",
    "                  \"Dec\"])\n",
    "\n",
    "# write conditional statement to check if new 'months' array has\n",
    "# the same shape as the new numpy array in previous question\n",
    "\n",
    "if months.shape == precip_89_1d.shape:\n",
    "    print(\"The arrays have the same shape and can be plotted together\")\n",
    "\n",
    "else:\n",
    "    print(\"The arrays have different shapes and therefore cant be plotted\")"
   ]
  },
  {
   "cell_type": "markdown",
   "metadata": {},
   "source": [
    "#### Question 5: Practice Pseudo Coding\n",
    "\n",
    "Reflect on your conditional statement from the previous question.\n",
    "\n",
    "Write a sentence or two on how you could expand on your conditional statement from the previous question to create a plot from the two numpy arrays if they do indeed have the same shape.\n",
    "\n",
    "Hint: what did you do in Question 3 to expand on your conditional statement?"
   ]
  },
  {
   "cell_type": "markdown",
   "metadata": {},
   "source": [
    "In order for a plot to be created from two numpy arrays the plots need to be of the same dimensions.\n",
    "\n",
    "To build this into the conditional statement in Question 4 I would add code to create a plot if the conditional statement is true, i.e. the shapes of the two numpy arrays are the same.\n",
    "\n",
    "I would leave the else statement the same to print a statement that the arrays have different shapes and therefore a plot could not be created."
   ]
  },
  {
   "cell_type": "code",
   "execution_count": null,
   "metadata": {},
   "outputs": [],
   "source": []
  }
 ],
 "metadata": {
  "kernelspec": {
   "display_name": "Python 3",
   "language": "python",
   "name": "python3"
  },
  "language_info": {
   "codemirror_mode": {
    "name": "ipython",
    "version": 3
   },
   "file_extension": ".py",
   "mimetype": "text/x-python",
   "name": "python",
   "nbconvert_exporter": "python",
   "pygments_lexer": "ipython3",
   "version": "3.7.0"
  }
 },
 "nbformat": 4,
 "nbformat_minor": 2
}
