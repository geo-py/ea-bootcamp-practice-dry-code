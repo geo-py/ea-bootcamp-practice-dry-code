{
 "cells": [
  {
   "cell_type": "markdown",
   "metadata": {},
   "source": [
    "#### Practice Dry Code Exercise\n",
    "\n",
    "* **Author:** Mark Brown\n",
    "* **Date:** 31/12/18"
   ]
  },
  {
   "cell_type": "markdown",
   "metadata": {},
   "source": [
    "#### Import Python Packages\n",
    "\n",
    "In the questions below, you will be working with numpy arrays and pandas dataframes.\n",
    "\n",
    "You will also be downloading files using urllib.request and accessing directories and files on your computer using os. Last, you will also be creating plots of your data.\n",
    "\n",
    "Import all of the necessary Python packages to accomplish these tasks."
   ]
  },
  {
   "cell_type": "code",
   "execution_count": 1,
   "metadata": {},
   "outputs": [
    {
     "name": "stdout",
     "output_type": "stream",
     "text": [
      "All packages successfully imported\n"
     ]
    }
   ],
   "source": [
    "# import necessary packages\n",
    "import os\n",
    "import numpy as np\n",
    "import pandas as pd\n",
    "import urllib.request\n",
    "import matplotlib.pyplot as plt\n",
    "\n",
    "print(\"All packages successfully imported\")"
   ]
  },
  {
   "cell_type": "markdown",
   "metadata": {},
   "source": [
    "#### Get Data\n",
    "#### Numpy Arrays\n",
    "\n",
    "Use .urllib.request to download the following .csv files of monthly precipitation (inches) and import the data to numpy arrays:\n",
    "\n",
    "1. monthly-precip-1988-to-1992.csv from https://ndownloader.figshare.com/files/12807380\n",
    "\n",
    "2. monthly-precip-1993-to-1997.csv from https://ndownloader.figshare.com/files/12807383\n",
    "\n",
    "Each dataset contains a row for each year specified in the dataset name and contains a column for each month (starting with January through December)."
   ]
  },
  {
   "cell_type": "code",
   "execution_count": 2,
   "metadata": {},
   "outputs": [
    {
     "name": "stdout",
     "output_type": "stream",
     "text": [
      "Datasets sucessfully downloaded\n"
     ]
    }
   ],
   "source": [
    "# set the working directory\n",
    "os.chdir(\"/Users/markb/earth-analytics-bootcamp/\")\n",
    "\n",
    "# download monthly-precip-1988-to-1992.csv\n",
    "urllib.request.urlretrieve(url = \"https://ndownloader.figshare.com/files/12807380\",\n",
    "                          filename = \"data/monthly-precip-1988-to-1992.csv\")\n",
    "\n",
    "# download monthly-precip-1993-to-1997.csv\n",
    "urllib.request.urlretrieve(url = \"https://ndownloader.figshare.com/files/12807383\", \n",
    "                          filename = \"data/monthly-precip-1993-to-1997.csv\")\n",
    "\n",
    "# print message that files were downloaded successfully\n",
    "print(\"Datasets sucessfully downloaded\")"
   ]
  },
  {
   "cell_type": "code",
   "execution_count": 6,
   "metadata": {},
   "outputs": [
    {
     "name": "stdout",
     "output_type": "stream",
     "text": [
      "Numpy arrays sucessfully created\n",
      "[[0.4  1.14 2.53 1.48 3.7  0.7  0.71 1.33 2.02 0.03 0.75 2.16]\n",
      " [1.19 1.27 0.97 1.95 2.68 2.93 1.43 1.63 3.54 1.4  0.09 1.54]\n",
      " [1.04 1.32 4.55 2.16 1.73 0.39 4.23 1.13 1.84 0.96 1.6  0.75]\n",
      " [1.05 0.15 0.43 2.41 2.9  3.59 3.11 2.08 1.21 0.93 3.3  0.01]\n",
      " [0.67 0.   5.17 0.46 1.7  0.96 1.13 3.08 0.02 0.79 2.56 0.84]]\n",
      "[[0.25 0.9  2.15 2.56 1.73 3.38 1.4  1.04 3.32 2.42 2.17 0.55]\n",
      " [0.86 1.37 1.61 3.46 1.35 0.93 0.35 2.56 0.54 1.02 2.25 0.49]\n",
      " [0.64 1.53 1.21 5.45 9.59 4.03 0.72 1.45 2.96 0.59 1.51 0.25]\n",
      " [1.89 0.29 2.16 1.49 4.63 2.77 1.96 0.63 3.48 0.28 1.43 0.37]\n",
      " [0.87 1.83 0.91 5.77 2.19 3.69 1.14 5.27 1.92 2.7  1.52 0.68]]\n"
     ]
    }
   ],
   "source": [
    "# import the downloaded files into new numpy arrays\n",
    "precip_88_to_92 = np.loadtxt(fname = \"/Users/markb/earth-analytics-bootcamp/data/monthly-precip-1988-to-1992.csv\", delimiter = \",\")\n",
    "\n",
    "precip_93_to_97 = np.loadtxt(fname = \"/Users/markb/earth-analytics-bootcamp/data/monthly-precip-1993-to-1997.csv\", delimiter = \",\")\n",
    "\n",
    "# print message to show that files sucessfully created\n",
    "print(\"Numpy arrays sucessfully created\")\n",
    "\n",
    "# display values in numpy array as floats rather than scientific\n",
    "# notation\n",
    "np.set_printoptions(suppress=True)\n",
    "\n",
    "# print the newly created numpy arrays\n",
    "print(precip_88_to_92)\n",
    "print(precip_93_to_97)"
   ]
  },
  {
   "cell_type": "code",
   "execution_count": null,
   "metadata": {},
   "outputs": [],
   "source": []
  }
 ],
 "metadata": {
  "kernelspec": {
   "display_name": "Python 3",
   "language": "python",
   "name": "python3"
  },
  "language_info": {
   "codemirror_mode": {
    "name": "ipython",
    "version": 3
   },
   "file_extension": ".py",
   "mimetype": "text/x-python",
   "name": "python",
   "nbconvert_exporter": "python",
   "pygments_lexer": "ipython3",
   "version": "3.7.0"
  }
 },
 "nbformat": 4,
 "nbformat_minor": 2
}
